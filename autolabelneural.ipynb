{
  "nbformat": 4,
  "nbformat_minor": 0,
  "metadata": {
    "colab": {
      "name": "autolabelneural.ipynb",
      "provenance": [],
      "collapsed_sections": [],
      "mount_file_id": "1ghCgmtI6q3KwPJhwcdWGEmbU04v1qvyA",
      "authorship_tag": "ABX9TyNv99wty2XchORnJ7pI8NVh",
      "include_colab_link": true
    },
    "kernelspec": {
      "name": "python3",
      "display_name": "Python 3"
    },
    "language_info": {
      "name": "python"
    }
  },
  "cells": [
    {
      "cell_type": "markdown",
      "metadata": {
        "id": "view-in-github",
        "colab_type": "text"
      },
      "source": [
        "<a href=\"https://colab.research.google.com/github/torgbuiedunyenyo/NETL-Automatic-Topic-Labelling-/blob/master/autolabelneural.ipynb\" target=\"_parent\"><img src=\"https://colab.research.google.com/assets/colab-badge.svg\" alt=\"Open In Colab\"/></a>"
      ]
    },
    {
      "cell_type": "code",
      "metadata": {
        "colab": {
          "base_uri": "https://localhost:8080/"
        },
        "id": "CCr_zZea4oen",
        "outputId": "55e02d08-b9c6-474f-e23b-eccb87f870ef"
      },
      "source": [
        "from google.colab import drive\n",
        "drive.mount('/content/drive')"
      ],
      "execution_count": 1,
      "outputs": [
        {
          "output_type": "stream",
          "text": [
            "Mounted at /content/drive\n"
          ],
          "name": "stdout"
        }
      ]
    },
    {
      "cell_type": "code",
      "metadata": {
        "colab": {
          "base_uri": "https://localhost:8080/"
        },
        "id": "90nZhDRj5DjK",
        "outputId": "d0f93a65-bb70-47d2-95c4-71bf733ccf4c"
      },
      "source": [
        "!git clone https://github.com/sb1992/NETL-Automatic-Topic-Labelling-.git"
      ],
      "execution_count": 2,
      "outputs": [
        {
          "output_type": "stream",
          "text": [
            "Cloning into 'NETL-Automatic-Topic-Labelling-'...\n",
            "remote: Enumerating objects: 195, done.\u001b[K\n",
            "remote: Counting objects: 100% (9/9), done.\u001b[K\n",
            "remote: Compressing objects: 100% (9/9), done.\u001b[K\n",
            "remote: Total 195 (delta 4), reused 0 (delta 0), pack-reused 186\u001b[K\n",
            "Receiving objects: 100% (195/195), 16.37 MiB | 17.68 MiB/s, done.\n",
            "Resolving deltas: 100% (85/85), done.\n"
          ],
          "name": "stdout"
        }
      ]
    },
    {
      "cell_type": "markdown",
      "metadata": {
        "id": "qWOfAdbVEFo2"
      },
      "source": [
        ""
      ]
    },
    {
      "cell_type": "code",
      "metadata": {
        "colab": {
          "base_uri": "https://localhost:8080/"
        },
        "id": "RIMvmxJXDwIo",
        "outputId": "91c59ec4-d4e8-4387-bf3d-637e02c89a04"
      },
      "source": [
        "!git push https://github.com/torgbuiedunyenyo/NETL-Automatic-Topic-Labelling-.git"
      ],
      "execution_count": 21,
      "outputs": [
        {
          "output_type": "stream",
          "text": [
            "fatal: not a git repository (or any of the parent directories): .git\n"
          ],
          "name": "stdout"
        }
      ]
    },
    {
      "cell_type": "code",
      "metadata": {
        "id": "BU-Hi4Wg5MUi"
      },
      "source": [
        "!cd /content/NETL-Automatic-Topic-Labelling-"
      ],
      "execution_count": 3,
      "outputs": []
    },
    {
      "cell_type": "code",
      "metadata": {
        "colab": {
          "base_uri": "https://localhost:8080/"
        },
        "id": "SEkgeecW5Ois",
        "outputId": "f09e865e-b73d-4d6c-b358-f9f8a64fc407"
      },
      "source": [
        "!wget -O /content/NETL-Automatic-Topic-Labelling-/doc2vec.tgz https://cloudstor.aarnet.edu.au/plus/s/vAjUzKOYyR67Vvl/download"
      ],
      "execution_count": 5,
      "outputs": [
        {
          "output_type": "stream",
          "text": [
            "--2021-08-14 09:13:22--  https://cloudstor.aarnet.edu.au/plus/s/vAjUzKOYyR67Vvl/download\n",
            "Resolving cloudstor.aarnet.edu.au (cloudstor.aarnet.edu.au)... 202.158.207.20\n",
            "Connecting to cloudstor.aarnet.edu.au (cloudstor.aarnet.edu.au)|202.158.207.20|:443... connected.\n",
            "HTTP request sent, awaiting response... 200 OK\n",
            "Length: 7272299160 (6.8G) [application/x-compressed]\n",
            "Saving to: ‘/content/NETL-Automatic-Topic-Labelling-/doc2vec.tgz’\n",
            "\n",
            "/content/NETL-Autom 100%[===================>]   6.77G  9.45MB/s    in 12m 0s  \n",
            "\n",
            "2021-08-14 09:25:25 (9.63 MB/s) - ‘/content/NETL-Automatic-Topic-Labelling-/doc2vec.tgz’ saved [7272299160/7272299160]\n",
            "\n"
          ],
          "name": "stdout"
        }
      ]
    },
    {
      "cell_type": "code",
      "metadata": {
        "colab": {
          "base_uri": "https://localhost:8080/"
        },
        "id": "WS6KdfSa8A2e",
        "outputId": "8572eb27-1d3b-4611-bf27-836c3f2afda5"
      },
      "source": [
        "!wget -O /content/NETL-Automatic-Topic-Labelling-/word2vec.tgz https://cloudstor.aarnet.edu.au/plus/s/dBnYKY2PjwCQC1V/download"
      ],
      "execution_count": 6,
      "outputs": [
        {
          "output_type": "stream",
          "text": [
            "--2021-08-14 09:25:26--  https://cloudstor.aarnet.edu.au/plus/s/dBnYKY2PjwCQC1V/download\n",
            "Resolving cloudstor.aarnet.edu.au (cloudstor.aarnet.edu.au)... 202.158.207.20\n",
            "Connecting to cloudstor.aarnet.edu.au (cloudstor.aarnet.edu.au)|202.158.207.20|:443... connected.\n",
            "HTTP request sent, awaiting response... 200 OK\n",
            "Length: 2490800292 (2.3G) [application/x-compressed]\n",
            "Saving to: ‘/content/NETL-Automatic-Topic-Labelling-/word2vec.tgz’\n",
            "\n",
            "/content/NETL-Autom 100%[===================>]   2.32G  21.2MB/s    in 1m 57s  \n",
            "\n",
            "2021-08-14 09:27:24 (20.3 MB/s) - ‘/content/NETL-Automatic-Topic-Labelling-/word2vec.tgz’ saved [2490800292/2490800292]\n",
            "\n"
          ],
          "name": "stdout"
        }
      ]
    },
    {
      "cell_type": "code",
      "metadata": {
        "colab": {
          "base_uri": "https://localhost:8080/"
        },
        "id": "9yS5BWaB_orN",
        "outputId": "ff5382a5-ad39-4e4d-8ce6-1f1f3c97a7f2"
      },
      "source": [
        "!tar -xvf  '/content/NETL-Automatic-Topic-Labelling-/word2vec.tgz' -C '/content/NETL-Automatic-Topic-Labelling-/model_run/pre_trained_models/'"
      ],
      "execution_count": 37,
      "outputs": [
        {
          "output_type": "stream",
          "text": [
            "word2vec/\n",
            "word2vec/word2vec.syn1neg.npy\n",
            "word2vec/word2vec\n",
            "word2vec/word2vec.syn0.npy\n"
          ],
          "name": "stdout"
        }
      ]
    },
    {
      "cell_type": "code",
      "metadata": {
        "colab": {
          "base_uri": "https://localhost:8080/"
        },
        "id": "liqG0v_HAB_5",
        "outputId": "1ac03e79-96e9-4fb6-a068-1f343d3aab6d"
      },
      "source": [
        "!tar -xvf  '/content/NETL-Automatic-Topic-Labelling-/doc2vec.tgz' -C '/content/NETL-Automatic-Topic-Labelling-/model_run/pre_trained_models'"
      ],
      "execution_count": 10,
      "outputs": [
        {
          "output_type": "stream",
          "text": [
            "doc2vec/\n",
            "doc2vec/docvecmodel.d2v.docvecs.doctag_syn0.npy\n",
            "doc2vec/docvecmodel.d2v\n",
            "doc2vec/docvecmodel.d2v.syn0.npy\n",
            "doc2vec/docvecmodel.d2v.syn1neg.npy\n"
          ],
          "name": "stdout"
        }
      ]
    },
    {
      "cell_type": "code",
      "metadata": {
        "colab": {
          "base_uri": "https://localhost:8080/"
        },
        "id": "AON3flK0Aqui",
        "outputId": "1ad0c121-eb45-48d8-fc4e-f249cd00ecf5"
      },
      "source": [
        "!wget -O '/content/NETL-Automatic-Topic-Labelling-/model_run/support_files/pagerank.txt.gz' 'https://cloudstor.aarnet.edu.au/plus/s/v8jnMgT563gf5ei/download'"
      ],
      "execution_count": 12,
      "outputs": [
        {
          "output_type": "stream",
          "text": [
            "--2021-08-14 09:35:52--  https://cloudstor.aarnet.edu.au/plus/s/v8jnMgT563gf5ei/download\n",
            "Resolving cloudstor.aarnet.edu.au (cloudstor.aarnet.edu.au)... 202.158.207.20\n",
            "Connecting to cloudstor.aarnet.edu.au (cloudstor.aarnet.edu.au)|202.158.207.20|:443... connected.\n",
            "HTTP request sent, awaiting response... 200 OK\n",
            "Length: 53949633 (51M) [application/x-gzip]\n",
            "Saving to: ‘/content/NETL-Automatic-Topic-Labelling-/model_run/support_files/pagerank.txt.gz’\n",
            "\n",
            "/content/NETL-Autom 100%[===================>]  51.45M  16.5MB/s    in 3.3s    \n",
            "\n",
            "2021-08-14 09:35:57 (15.6 MB/s) - ‘/content/NETL-Automatic-Topic-Labelling-/model_run/support_files/pagerank.txt.gz’ saved [53949633/53949633]\n",
            "\n"
          ],
          "name": "stdout"
        }
      ]
    },
    {
      "cell_type": "code",
      "metadata": {
        "colab": {
          "base_uri": "https://localhost:8080/"
        },
        "id": "KjE1_K-9BKVE",
        "outputId": "dd1bfe1f-7ff5-49d0-c946-cd3fbda2f8ed"
      },
      "source": [
        "!wget /content/NETL-Automatic-Topic-Labelling- http://download.joachims.org/svm_rank/current/svm_rank_linux64.tar.gz"
      ],
      "execution_count": 13,
      "outputs": [
        {
          "output_type": "stream",
          "text": [
            "/content/NETL-Automatic-Topic-Labelling-: Scheme missing.\n",
            "--2021-08-14 09:37:10--  http://download.joachims.org/svm_rank/current/svm_rank_linux64.tar.gz\n",
            "Resolving download.joachims.org (download.joachims.org)... 81.88.42.187, 81.88.34.174\n",
            "Connecting to download.joachims.org (download.joachims.org)|81.88.42.187|:80... connected.\n",
            "HTTP request sent, awaiting response... 302 Found\n",
            "Location: http://osmot.cs.cornell.edu/svm_rank/current/svm_rank_linux64.tar.gz [following]\n",
            "--2021-08-14 09:37:12--  http://osmot.cs.cornell.edu/svm_rank/current/svm_rank_linux64.tar.gz\n",
            "Resolving osmot.cs.cornell.edu (osmot.cs.cornell.edu)... 128.253.51.182\n",
            "Connecting to osmot.cs.cornell.edu (osmot.cs.cornell.edu)|128.253.51.182|:80... connected.\n",
            "HTTP request sent, awaiting response... 200 OK\n",
            "Length: 116436 (114K) [application/x-gzip]\n",
            "Saving to: ‘svm_rank_linux64.tar.gz’\n",
            "\n",
            "svm_rank_linux64.ta 100%[===================>] 113.71K   199KB/s    in 0.6s    \n",
            "\n",
            "2021-08-14 09:37:13 (199 KB/s) - ‘svm_rank_linux64.tar.gz’ saved [116436/116436]\n",
            "\n",
            "FINISHED --2021-08-14 09:37:13--\n",
            "Total wall clock time: 2.9s\n",
            "Downloaded: 1 files, 114K in 0.6s (199 KB/s)\n"
          ],
          "name": "stdout"
        }
      ]
    },
    {
      "cell_type": "code",
      "metadata": {
        "colab": {
          "base_uri": "https://localhost:8080/"
        },
        "id": "vS3itPZ4Bft3",
        "outputId": "c48f7ece-1804-45f1-dea6-40246312a99c"
      },
      "source": [
        "!tar -xvf /content/svm_rank_linux64.tar.gz -C /content/NETL-Automatic-Topic-Labelling-/model_run/support_files"
      ],
      "execution_count": 18,
      "outputs": [
        {
          "output_type": "stream",
          "text": [
            "LICENSE.txt\n",
            "svm_rank_learn\n",
            "svm_rank_classify\n"
          ],
          "name": "stdout"
        }
      ]
    },
    {
      "cell_type": "code",
      "metadata": {
        "colab": {
          "base_uri": "https://localhost:8080/"
        },
        "id": "CeUt5SygEk-i",
        "outputId": "ad1e4754-79d4-4afb-9748-c8bb2c478f6b"
      },
      "source": [
        "!pip3 install --upgrade pip"
      ],
      "execution_count": 24,
      "outputs": [
        {
          "output_type": "stream",
          "text": [
            "Requirement already satisfied: pip in /usr/local/lib/python3.7/dist-packages (21.1.3)\n",
            "Collecting pip\n",
            "  Downloading pip-21.2.4-py3-none-any.whl (1.6 MB)\n",
            "\u001b[K     |████████████████████████████████| 1.6 MB 4.9 MB/s \n",
            "\u001b[?25hInstalling collected packages: pip\n",
            "  Attempting uninstall: pip\n",
            "    Found existing installation: pip 21.1.3\n",
            "    Uninstalling pip-21.1.3:\n",
            "      Successfully uninstalled pip-21.1.3\n",
            "Successfully installed pip-21.2.4\n"
          ],
          "name": "stdout"
        }
      ]
    },
    {
      "cell_type": "code",
      "metadata": {
        "colab": {
          "base_uri": "https://localhost:8080/"
        },
        "id": "fjwYM62pFHaf",
        "outputId": "d8c9aa54-7e76-4835-ee0e-8daaa8c9b1cd"
      },
      "source": [
        "!python3 '/content/NETL-Automatic-Topic-Labelling-/model_run/get_labels.py' -us --num_unsup_labels 15 --cand_gen_output = '/content/NETL-Automatic-Topic-Labelling-/training/dump/cand_gen' --out_unsup '/content/NETL-Automatic-Topic-Labelling-/training/dump/labels_gen_test'"
      ],
      "execution_count": 47,
      "outputs": [
        {
          "output_type": "stream",
          "text": [
            "usage: get_labels.py [-h] [-cg] [-us] [-s]\n",
            "get_labels.py: error: unrecognized arguments: --num_unsup_labels 15 --cand_gen_output = /content/NETL-Automatic-Topic-Labelling-/training/dump/cand_gen --out_unsup /content/NETL-Automatic-Topic-Labelling-/training/dump/labels_gen_test\n"
          ],
          "name": "stdout"
        }
      ]
    }
  ]
}